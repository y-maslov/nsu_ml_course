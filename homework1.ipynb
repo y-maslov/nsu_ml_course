{
  "cells": [
    {
      "cell_type": "code",
      "execution_count": null,
      "metadata": {
        "colab": {
          "base_uri": "https://localhost:8080/"
        },
        "id": "Ppvrb6ArLKsA",
        "outputId": "20363e0b-cf91-4f4d-e85b-30826c8b184e"
      },
      "outputs": [
        {
          "name": "stdout",
          "output_type": "stream",
          "text": [
            "15\n",
            "ХОЛОДНО\n"
          ]
        }
      ],
      "source": [
        "#1\n",
        "temp = float(input())\n",
        "if temp < 15.5:\n",
        "  print(\"ХОЛОДНО\")\n",
        "elif temp > 28:\n",
        "  print(\"ЖАРКО\")\n",
        "else:\n",
        "  print(\"НОРМАЛЬНО\")"
      ]
    },
    {
      "cell_type": "code",
      "execution_count": null,
      "metadata": {
        "colab": {
          "base_uri": "https://localhost:8080/"
        },
        "id": "Q-Ul1nXNMMdK",
        "outputId": "beaf7c8f-4ddb-4f66-9126-e457683a19dc"
      },
      "outputs": [
        {
          "name": "stdout",
          "output_type": "stream",
          "text": [
            "1\n",
            "мякоть;\n",
            "МЯУ\n"
          ]
        }
      ],
      "source": [
        "#2\n",
        "n = int(input())\n",
        "mark = 0\n",
        "for i in range(n):\n",
        "  str = input()\n",
        "  if (str.find(\"Кот\") != -1) or (str.find(\"кот\") != -1):\n",
        "    mark = 1\n",
        "if mark == 1:\n",
        "  print(\"МЯУ\")\n",
        "else:\n",
        "  print(\"НЕТ\")\n"
      ]
    },
    {
      "cell_type": "code",
      "execution_count": 24,
      "metadata": {
        "colab": {
          "base_uri": "https://localhost:8080/"
        },
        "id": "C3YtDwhXOR_n",
        "outputId": "2b10b1b3-bf04-4526-b1c8-5ac0a97cc922"
      },
      "outputs": [
        {
          "name": "stdout",
          "output_type": "stream",
          "text": [
            "чечевица\n",
            "светопредставление\n",
            "престол\n",
            "стоп\n",
            "ДА\n"
          ]
        }
      ],
      "source": [
        "#3\n",
        "str = '0'\n",
        "min_len = 1e10\n",
        "min_str = '0'\n",
        "max_len = 0\n",
        "max_str = '0'\n",
        "\n",
        "while str != 'стоп':\n",
        "  str = input()\n",
        "  if str == 'стоп':\n",
        "    break\n",
        "\n",
        "  if len(str) > max_len:\n",
        "    max_str = str\n",
        "    max_len = len(str)\n",
        "  if len(str) < min_len:\n",
        "    min_str = str\n",
        "    min_len = len(str)\n",
        "\n",
        "\n",
        "min_str_s = set(min_str)\n",
        "max_str_s = set(max_str)\n",
        "\n",
        "\n",
        "if min_str_s <= max_str_s:\n",
        "  print(\"ДА\")\n",
        "else:\n",
        "  print(\"НЕТ\")"
      ]
    },
    {
      "cell_type": "code",
      "execution_count": 25,
      "metadata": {
        "colab": {
          "base_uri": "https://localhost:8080/"
        },
        "id": "voT5VAtwnSbX",
        "outputId": "abdacd71-9d03-4c04-a95c-5455f0fc5104"
      },
      "outputs": [
        {
          "name": "stdout",
          "output_type": "stream",
          "text": [
            "4\n",
            "картину\n",
            "корзинку\n",
            "картонку\n",
            "маленькую собаченку\n",
            "картину\n",
            "корзинку\n",
            "картонку\n",
            "маленькую собаченку\n"
          ]
        }
      ],
      "source": [
        "#4\n",
        "arr = []\n",
        "n = int(input())\n",
        "for i in range(n):\n",
        "  arr.append(input())\n",
        "for i in range(n):\n",
        "  print(arr[i])"
      ]
    },
    {
      "cell_type": "code",
      "execution_count": 27,
      "metadata": {
        "colab": {
          "base_uri": "https://localhost:8080/"
        },
        "id": "sf6f3FNGol_L",
        "outputId": "cad94e56-dfbb-4868-a4b6-c8dd7f818031"
      },
      "outputs": [
        {
          "name": "stdout",
          "output_type": "stream",
          "text": [
            "холодно\n",
            "ххооллоодднноо\n"
          ]
        }
      ],
      "source": [
        "#5\n",
        "str = input()\n",
        "str_new = \"\"\n",
        "for i in range(len(str)):\n",
        "  str_new += str[i]*2\n",
        "print(str_new)\n"
      ]
    },
    {
      "cell_type": "code",
      "execution_count": 3,
      "metadata": {
        "colab": {
          "base_uri": "https://localhost:8080/"
        },
        "id": "db_AjuZMsDUM",
        "outputId": "2dbf1d32-9afd-4985-abc6-1a2aa88e0992"
      },
      "outputs": [
        {
          "name": "stdout",
          "output_type": "stream",
          "text": [
            "Здравствуйте, ad  d.\n"
          ]
        }
      ],
      "source": [
        "#6\n",
        "def greet(name, surname):\n",
        "  print(f\"Здравствуйте, {name} {surname}.\")\n",
        "\n",
        "name = input()\n",
        "surname = input()\n",
        "greet(name, surname)"
      ]
    },
    {
      "cell_type": "code",
      "execution_count": 20,
      "metadata": {
        "id": "XJcdpYWrw1VY"
      },
      "outputs": [],
      "source": [
        "#7\n",
        "class LittleBell():\n",
        "  def sound(self):\n",
        "    print(\"ding\")\n",
        "\n",
        "\n"
      ]
    },
    {
      "cell_type": "code",
      "execution_count": 24,
      "metadata": {
        "colab": {
          "base_uri": "https://localhost:8080/",
          "height": 192
        },
        "id": "rBa8mShHxiE0",
        "outputId": "1cc993c4-af8e-4ea5-8393-1e4fb4a82a56"
      },
      "outputs": [
        {
          "name": "stdout",
          "output_type": "stream",
          "text": [
            "ding\n",
            "ding\n"
          ]
        }
      ],
      "source": [
        "#7\n",
        "bell = LittleBell()\n",
        "bell.sound()\n",
        "bell.sound()"
      ]
    },
    {
      "cell_type": "code",
      "execution_count": null,
      "metadata": {},
      "outputs": [],
      "source": [
        "#8\n",
        "\"\"\"\n",
        "В основном до этого имел дело с C и C++.\n",
        "Полноценный опыт работы с python ограничен месяцем изучения на семестровом курсе \"Программирование на C++ и Python\" на ФФ НГУ и написанием бота для discord (~560 строк)  \n",
        "\"\"\""
      ]
    }
  ],
  "metadata": {
    "colab": {
      "provenance": []
    },
    "kernelspec": {
      "display_name": "Python 3",
      "name": "python3"
    },
    "language_info": {
      "codemirror_mode": {
        "name": "ipython",
        "version": 3
      },
      "file_extension": ".py",
      "mimetype": "text/x-python",
      "name": "python",
      "nbconvert_exporter": "python",
      "pygments_lexer": "ipython3",
      "version": "3.9.13"
    }
  },
  "nbformat": 4,
  "nbformat_minor": 0
}
