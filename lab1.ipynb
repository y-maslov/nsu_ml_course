{
 "cells": [
  {
   "cell_type": "code",
   "execution_count": 12,
   "metadata": {},
   "outputs": [],
   "source": [
    "\"\"\"\n",
    "Реализовать два класса Pupa и Lupa. И класс Accountant.\n",
    "Класс Accountant должен уметь одинаково успешно работать и с экземплярами\n",
    "класса Pupa и с экземплярами класса Lupa. У класса Accountant должен быть\n",
    "метод give_salary(worker). Который, получая на вход экземпляр классов Pupa или\n",
    "Lupa, вызывает у них метод take_salary(int). Необходимо придумать как\n",
    "реализовать такое поведение. Метод take_salary инкрементирует внутренний\n",
    "счётчик у каждого экземпляра класса на переданное ему значение.\n",
    "При этом Pupa и Lupa два датасайнтиста и должны работать с числами. У них\n",
    "есть метод do_work (spisok1, spisok2). Pupa считывают из обоих переданных ему\n",
    "списков числа и поэлементно их суммируют. Lupa считывают из обоих\n",
    "переданных ему списков числа и поэлементно их вычитают. Работники обоих\n",
    "типов выводят результат своих трудов на экран.\n",
    "Класс Accountant реализует логику начисления ЗП на ваше\n",
    "усмотрение, но будьте внимательны чтобы не получилось так, что\n",
    "Lupa получит за Pupa, а Pupa ничего не получит.\"\"\"\n",
    "\n",
    "\n",
    "\n",
    "class worker:\n",
    "    def __init__(self):\n",
    "        self.cnt = 0\n",
    "        \n",
    "    def take_salary(self, n):\n",
    "        self.cnt += n\n",
    "\n",
    "\n",
    "\n",
    "class Pupa(worker):\n",
    "    def _init_(self):\n",
    "        super().__init__()\n",
    "    def do_work(self, spisok1, spisok2):\n",
    "        fltr = lambda x: str(x).isdigit()\n",
    "        spisok1 = list(filter(fltr, spisok1))\n",
    "        spisok2 = list(filter(fltr, spisok2))\n",
    "        result = [spisok1[i] + spisok2[i] for i in range(min(len(spisok1), len(spisok2)))] \n",
    "        print(result)\n",
    "\n",
    "\n",
    "class Lupa(worker):    \n",
    "    def _init_(self):\n",
    "        super().__init__()\n",
    "    def do_work(self, spisok1, spisok2):\n",
    "        fltr = lambda x: str(x).isdigit()\n",
    "        spisok1 = list(filter(fltr, spisok1))\n",
    "        spisok2 = list(filter(fltr, spisok2))\n",
    "        result = [spisok1[i] - spisok2[i] for i in range(min(len(spisok1), len(spisok2)))] \n",
    "        print(result) \n",
    "\n",
    "\n",
    "class Accountant:\n",
    "    def give_salary(self, worker, n):\n",
    "        worker.take_salary(n)\n",
    "\n",
    "\n"
   ]
  },
  {
   "cell_type": "code",
   "execution_count": 14,
   "metadata": {},
   "outputs": [
    {
     "name": "stdout",
     "output_type": "stream",
     "text": [
      "0\n",
      "1\n",
      "[2, 5, 8]\n",
      "[0, -1, -2]\n"
     ]
    }
   ],
   "source": [
    "P = Pupa()\n",
    "L = Lupa()\n",
    "A = Accountant()\n",
    "A.give_salary(P, 0)\n",
    "A.give_salary(L, 1)\n",
    "print(P.cnt)\n",
    "print(L.cnt)\n",
    "P.do_work([1, 2, 3, \"a\"], [1, 3, 5, 9])\n",
    "L.do_work([\"b\", 1, 2, 3, \"a\"], [1, \"ada\", 3, 5, 9, 10])"
   ]
  }
 ],
 "metadata": {
  "kernelspec": {
   "display_name": "base",
   "language": "python",
   "name": "python3"
  },
  "language_info": {
   "codemirror_mode": {
    "name": "ipython",
    "version": 3
   },
   "file_extension": ".py",
   "mimetype": "text/x-python",
   "name": "python",
   "nbconvert_exporter": "python",
   "pygments_lexer": "ipython3",
   "version": "3.9.12"
  }
 },
 "nbformat": 4,
 "nbformat_minor": 2
}
